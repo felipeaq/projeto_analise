{
 "cells": [
  {
   "cell_type": "code",
   "execution_count": 1,
   "metadata": {},
   "outputs": [],
   "source": [
    "import numpy as np\n",
    "import pandas as pd\n",
    "import seaborn as sns"
   ]
  },
  {
   "cell_type": "code",
   "execution_count": 39,
   "metadata": {},
   "outputs": [],
   "source": [
    "%matplotlib inline  \n",
    "import warnings\n",
    "warnings.filterwarnings('ignore')"
   ]
  },
  {
   "cell_type": "markdown",
   "metadata": {},
   "source": [
    "<h1> carrega data fames com formato minutos, segundos</h1>"
   ]
  },
  {
   "cell_type": "code",
   "execution_count": 18,
   "metadata": {},
   "outputs": [],
   "source": [
    "bubble=pd.read_csv(\"bubble.csv\",sep=\";\")\n",
    "selection=pd.read_csv(\"selection.csv\",sep=\";\")\n",
    "countsort=pd.read_csv(\"countsort.csv\",sep=\";\")"
   ]
  },
  {
   "cell_type": "markdown",
   "metadata": {},
   "source": [
    "A tabela abaixo demonstra o tempo dos algoritmos, é possivel notar que não há todos os valores para o bubble sort e o selection sort. Isto acontece pois o algoritmos iria demorar muito para chegar a uma solução. Considerando uma complexidade big-theta(N²) para o bubble sort e para o selection sort, podemos considerar que cada vez que N cresce 10 vezes mais o algorimo vai demorar 100 vezes mais para convergir. podemos provar isto de forma empirica, por exemplo: O bubble de tamanho 10000.0 que demora 0,428 segundos que o de tamanho 100000.0 que demora 50,020 segundos, o que é aproximadamente 100 vezes mais. Assim podemos inferir que o de tamanho 1000000.0 iria demorar 1,38 horas e o de tamanho 10000000.0 5,78 dias! Portanto estes não foram analizados. O countsort com a complexidade big-theta(N), chega rapidamente a uma solução\n"
   ]
  },
  {
   "cell_type": "code",
   "execution_count": 20,
   "metadata": {},
   "outputs": [
    {
     "data": {
      "text/html": [
       "<div>\n",
       "<style scoped>\n",
       "    .dataframe tbody tr th:only-of-type {\n",
       "        vertical-align: middle;\n",
       "    }\n",
       "\n",
       "    .dataframe tbody tr th {\n",
       "        vertical-align: top;\n",
       "    }\n",
       "\n",
       "    .dataframe thead th {\n",
       "        text-align: right;\n",
       "    }\n",
       "</style>\n",
       "<table border=\"1\" class=\"dataframe\">\n",
       "  <thead>\n",
       "    <tr style=\"text-align: right;\">\n",
       "      <th></th>\n",
       "      <th>size</th>\n",
       "      <th>time</th>\n",
       "      <th>size</th>\n",
       "      <th>time</th>\n",
       "      <th>size</th>\n",
       "      <th>time</th>\n",
       "    </tr>\n",
       "  </thead>\n",
       "  <tbody>\n",
       "    <tr>\n",
       "      <th>0</th>\n",
       "      <td>10.0</td>\n",
       "      <td>0m0,000s</td>\n",
       "      <td>10.0</td>\n",
       "      <td>0m0,000s</td>\n",
       "      <td>10</td>\n",
       "      <td>0m0,000s</td>\n",
       "    </tr>\n",
       "    <tr>\n",
       "      <th>1</th>\n",
       "      <td>100.0</td>\n",
       "      <td>0m0,000s</td>\n",
       "      <td>100.0</td>\n",
       "      <td>0m0,000s</td>\n",
       "      <td>100</td>\n",
       "      <td>0m0,000s</td>\n",
       "    </tr>\n",
       "    <tr>\n",
       "      <th>2</th>\n",
       "      <td>1000.0</td>\n",
       "      <td>0m0,000s</td>\n",
       "      <td>1000.0</td>\n",
       "      <td>0m0,000s</td>\n",
       "      <td>1000</td>\n",
       "      <td>0m0,000s</td>\n",
       "    </tr>\n",
       "    <tr>\n",
       "      <th>3</th>\n",
       "      <td>10000.0</td>\n",
       "      <td>0m0,428s</td>\n",
       "      <td>10000.0</td>\n",
       "      <td>0m0,180s</td>\n",
       "      <td>10000</td>\n",
       "      <td>0m0,000s</td>\n",
       "    </tr>\n",
       "    <tr>\n",
       "      <th>4</th>\n",
       "      <td>100000.0</td>\n",
       "      <td>0m50,020s</td>\n",
       "      <td>100000.0</td>\n",
       "      <td>0m18,184s</td>\n",
       "      <td>100000</td>\n",
       "      <td>0m0,000s</td>\n",
       "    </tr>\n",
       "    <tr>\n",
       "      <th>5</th>\n",
       "      <td>NaN</td>\n",
       "      <td>NaN</td>\n",
       "      <td>1000000.0</td>\n",
       "      <td>30m38,364s</td>\n",
       "      <td>1000000</td>\n",
       "      <td>0m0,024s</td>\n",
       "    </tr>\n",
       "    <tr>\n",
       "      <th>6</th>\n",
       "      <td>NaN</td>\n",
       "      <td>NaN</td>\n",
       "      <td>NaN</td>\n",
       "      <td>NaN</td>\n",
       "      <td>10000000</td>\n",
       "      <td>0m0,180s</td>\n",
       "    </tr>\n",
       "  </tbody>\n",
       "</table>\n",
       "</div>"
      ],
      "text/plain": [
       "       size        time       size         time      size      time\n",
       "0      10.0    0m0,000s       10.0     0m0,000s        10  0m0,000s\n",
       "1     100.0    0m0,000s      100.0     0m0,000s       100  0m0,000s\n",
       "2    1000.0    0m0,000s     1000.0     0m0,000s      1000  0m0,000s\n",
       "3   10000.0    0m0,428s    10000.0     0m0,180s     10000  0m0,000s\n",
       "4  100000.0   0m50,020s   100000.0    0m18,184s    100000  0m0,000s\n",
       "5       NaN         NaN  1000000.0  30m38,364s    1000000  0m0,024s\n",
       "6       NaN         NaN        NaN          NaN  10000000  0m0,180s"
      ]
     },
     "execution_count": 20,
     "metadata": {},
     "output_type": "execute_result"
    }
   ],
   "source": [
    "pd.concat([bubble,selection,countsort],axis=1)"
   ]
  },
  {
   "cell_type": "markdown",
   "metadata": {},
   "source": [
    "<h1> Carrega data fames com segundos para plotar</h1>"
   ]
  },
  {
   "cell_type": "code",
   "execution_count": 45,
   "metadata": {},
   "outputs": [],
   "source": [
    "bubble_seg=pd.read_csv(\"bubble_seg.csv\",sep=\";\")\n",
    "selection_seg=pd.read_csv(\"selection_seg.csv\",sep=\";\")\n",
    "countsort_seg=pd.read_csv(\"countsort_seg.csv\",sep=\";\")"
   ]
  },
  {
   "cell_type": "markdown",
   "metadata": {},
   "source": [
    "Com o tempo arredondado pelo software time padrão no debian, alguns tempos estão em 0. Isto,junto com os poucos dados, pode atrapalhar na função da regressão dos gráficos e causar overfiting, mas é possível ver que uma regressão de grau 2 consegue acompanhar o bluble sort e o selection sort. Uma regressão linear também consegue acompanhar o linear sort."
   ]
  },
  {
   "cell_type": "code",
   "execution_count": 41,
   "metadata": {},
   "outputs": [
    {
     "data": {
      "text/plain": [
       "<matplotlib.axes._subplots.AxesSubplot at 0x7fb813699630>"
      ]
     },
     "execution_count": 41,
     "metadata": {},
     "output_type": "execute_result"
    },
    {
     "data": {
      "image/png": "[encoded data removed]",
      "text/plain": [
       "<matplotlib.figure.Figure at 0x7fb813613cf8>"
      ]
     },
     "metadata": {},
     "output_type": "display_data"
    }
   ],
   "source": [
    "sns.regplot(bubble_seg['size'],bubble_seg['time'],order=2)"
   ]
  },
  {
   "cell_type": "code",
   "execution_count": 44,
   "metadata": {},
   "outputs": [
    {
     "data": {
      "text/plain": [
       "<matplotlib.axes._subplots.AxesSubplot at 0x7fb81351f4a8>"
      ]
     },
     "execution_count": 44,
     "metadata": {},
     "output_type": "execute_result"
    },
    {
     "data": {
      "image/png": "[encoded data removed]",
      "text/plain": [
       "<matplotlib.figure.Figure at 0x7fb813565cf8>"
      ]
     },
     "metadata": {},
     "output_type": "display_data"
    }
   ],
   "source": [
    "sns.regplot(selection_seg['size'],selection_seg['time'],order=2)"
   ]
  },
  {
   "cell_type": "code",
   "execution_count": 43,
   "metadata": {},
   "outputs": [
    {
     "data": {
      "text/plain": [
       "<matplotlib.axes._subplots.AxesSubplot at 0x7fb8135caa20>"
      ]
     },
     "execution_count": 43,
     "metadata": {},
     "output_type": "execute_result"
    },
    {
     "data": {
      "image/png": "[encoded data removed]",
      "text/plain": [
       "<matplotlib.figure.Figure at 0x7fb813592eb8>"
      ]
     },
     "metadata": {},
     "output_type": "display_data"
    }
   ],
   "source": [
    "sns.regplot(countsort_seg['size'],countsort_seg['time'])"
   ]
  }
 ],
 "metadata": {
  "kernelspec": {
   "display_name": "Python 3",
   "language": "python",
   "name": "python3"
  },
  "language_info": {
   "codemirror_mode": {
    "name": "ipython",
    "version": 3
   },
   "file_extension": ".py",
   "mimetype": "text/x-python",
   "name": "python",
   "nbconvert_exporter": "python",
   "pygments_lexer": "ipython3",
   "version": "3.6.4"
  }
 },
 "nbformat": 4,
 "nbformat_minor": 2
}
